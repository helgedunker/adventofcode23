{
 "cells": [
  {
   "cell_type": "code",
   "execution_count": 1,
   "metadata": {},
   "outputs": [
    {
     "data": {
      "text/plain": [
       "140"
      ]
     },
     "execution_count": 1,
     "metadata": {},
     "output_type": "execute_result"
    }
   ],
   "source": [
    "with open (\"day3.txt\", \"r\") as myfile:\n",
    "    data=myfile.readlines()\n",
    "    \n",
    "#remove trailing \\n\n",
    "data = [x.strip() for x in data]\n",
    "#parse lines into 2 d array\n",
    "import numpy as np\n",
    "data = np.array([list(x) for x in data])\n",
    "\n",
    "data.shape\n",
    "len(data)"
   ]
  },
  {
   "cell_type": "code",
   "execution_count": 2,
   "metadata": {},
   "outputs": [],
   "source": [
    "def check_if_part_number(array):\n",
    "    #a number in the array is a part number if the number is adjacent to a symbol that is not \".\", even diagonally\n",
    "    result = 0\n",
    "    for x in range(len(array)):\n",
    "        current_digit = \"\"\n",
    "        valid_digit = False\n",
    "        for y in range(len(array[0])):\n",
    "\n",
    "            if str(array[x][y]).isdigit():\n",
    "\n",
    "                current_digit += array[x][y]\n",
    "                #check the 3x3 grid\n",
    "                for i in range(max(0, x-1), min(len(array), x+2)):\n",
    "                    for j in range(max(0, y-1), min(len(array), y+2)):\n",
    "                        if x == i and y == j:\n",
    "                            continue\n",
    "                        if array[i][j] != \".\" and not str(array[i][j]).isdigit():\n",
    "                            valid_digit = True\n",
    "                    \n",
    "            elif valid_digit and current_digit != \"\":\n",
    "                \n",
    "                result += int(current_digit)\n",
    "                current_digit = \"\"\n",
    "                valid_digit = False\n",
    "\n",
    "            else:\n",
    "                current_digit = \"\"\n",
    "                valid_digit = False\n",
    "            \n",
    "                \n",
    "        if valid_digit and current_digit != \"\":\n",
    "            result += int(current_digit)\n",
    "    return result"
   ]
  },
  {
   "cell_type": "code",
   "execution_count": 3,
   "metadata": {},
   "outputs": [
    {
     "data": {
      "text/plain": [
       "540131"
      ]
     },
     "execution_count": 3,
     "metadata": {},
     "output_type": "execute_result"
    }
   ],
   "source": [
    "check_if_part_number(data)"
   ]
  },
  {
   "cell_type": "code",
   "execution_count": 22,
   "metadata": {},
   "outputs": [],
   "source": [
    "#part 2 - multiply numbers that both have adjacent * to them then summ all of them\n",
    "from collections import defaultdict\n",
    "def check_gear_ratios(array):\n",
    "    #create map to hold gears and coordinates of them\n",
    "    gear_map: dict[tuple[int, int], list[int]] = defaultdict(list)\n",
    "    result =0\n",
    "\n",
    "    for x in range(len(array)):\n",
    "        #hold existing symbols around the gear\n",
    "        adjacent_symbols = set() \n",
    "        current_digit = \"\"\n",
    "        for y in range(len(array[0])):\n",
    "\n",
    "            if str(array[x][y]).isdigit():\n",
    "\n",
    "                current_digit += array[x][y]\n",
    "                #check the 3x3 grid\n",
    "                for i in range(max(0, x-1), min(len(array), x+2)):\n",
    "                    for j in range(max(0, y-1), min(len(array), y+2)):\n",
    "                        if x == i and y == j:\n",
    "                            continue\n",
    "                        if array[i][j] != \".\" and not str(array[i][j]).isdigit():\n",
    "                            adjacent_symbols.add((array[i][j], i, j))\n",
    "                    \n",
    "            elif len(adjacent_symbols) != 0 and current_digit != \"\":\n",
    "                \n",
    "                for symbol, a, b in adjacent_symbols:\n",
    "                    if symbol == \"*\":\n",
    "                        gear_map[(a,b)].append(int(current_digit))\n",
    "                \n",
    "                adjacent_symbols = set()\n",
    "                current_digit = \"\"\n",
    "\n",
    "            else:\n",
    "                adjacent_symbols = set()\n",
    "                current_digit = \"\"\n",
    "            \n",
    "                \n",
    "        if len(adjacent_symbols) != 0 and current_digit != \"\":\n",
    "                \n",
    "                for symbol, a, b in adjacent_symbols:\n",
    "                    if symbol == \"*\":\n",
    "                        gear_map[(a,b)].append(int(current_digit))\n",
    "\n",
    "    for key, values in gear_map.items():\n",
    "        if len(values) == 2:\n",
    "            result += values[0] * values[1]\n",
    "    return result"
   ]
  },
  {
   "cell_type": "code",
   "execution_count": 23,
   "metadata": {},
   "outputs": [
    {
     "data": {
      "text/plain": [
       "86879020"
      ]
     },
     "execution_count": 23,
     "metadata": {},
     "output_type": "execute_result"
    }
   ],
   "source": [
    "check_gear_ratios(data)"
   ]
  },
  {
   "cell_type": "code",
   "execution_count": null,
   "metadata": {},
   "outputs": [],
   "source": []
  }
 ],
 "metadata": {
  "kernelspec": {
   "display_name": "env",
   "language": "python",
   "name": "python3"
  },
  "language_info": {
   "codemirror_mode": {
    "name": "ipython",
    "version": 3
   },
   "file_extension": ".py",
   "mimetype": "text/x-python",
   "name": "python",
   "nbconvert_exporter": "python",
   "pygments_lexer": "ipython3",
   "version": "3.10.12"
  }
 },
 "nbformat": 4,
 "nbformat_minor": 2
}
