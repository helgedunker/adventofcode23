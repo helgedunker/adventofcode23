{
 "cells": [
  {
   "cell_type": "code",
   "execution_count": 16,
   "metadata": {},
   "outputs": [],
   "source": [
    "with open(\"day13.txt\", \"r\") as f:\n",
    "    data = f.read().strip().split(\"\\n\\n\")\n"
   ]
  },
  {
   "cell_type": "code",
   "execution_count": 18,
   "metadata": {},
   "outputs": [
    {
     "name": "stdout",
     "output_type": "stream",
     "text": [
      "31877 42996\n"
     ]
    }
   ],
   "source": [
    "# Read input from file and split by empty lines\n",
    "ll = open('day13.txt').read().strip().split('\\n\\n')\n",
    "\n",
    "# Function to transpose a matrix\n",
    "def transpose(matrix):\n",
    "    return list(map(list, zip(*matrix)))\n",
    "\n",
    "# Function to find the row or column where a reflection occurs\n",
    "def find_reflection(pattern, nonmatches):\n",
    "    pattern = [\"\".join(x) for x in pattern]\n",
    "    \n",
    "    # Loop through each row (or column)\n",
    "    for i in range(len(pattern)-1):\n",
    "        places_where_doesnt_work = 0\n",
    "        \n",
    "        # Check for non-matching places in the reflection\n",
    "        for j in range(len(pattern)):\n",
    "            if i+1+(i-j) in range(len(pattern)) and pattern[j] != pattern[i+1+(i-j)]:\n",
    "                places_where_doesnt_work += len([k for k in range(len(pattern[j])) if pattern[j][k] != pattern[i+1+(i-j)][k]])\n",
    "        \n",
    "        # If the number of non-matching places is equal to the specified nonmatches, return the index\n",
    "        if places_where_doesnt_work == nonmatches:\n",
    "            return i\n",
    "    \n",
    "    return None\n",
    "\n",
    "# Function to solve the puzzle for a given pattern and number of non-matching places\n",
    "def solve(pattern, nonmatches):\n",
    "    pattern = [list(x) for x in pattern.split('\\n')]\n",
    "    \n",
    "    # Check for a reflection in rows\n",
    "    row = find_reflection(pattern, nonmatches)\n",
    "    if row is not None:\n",
    "        return 100 * (row + 1)\n",
    "    \n",
    "    # Check for a reflection in columns by transposing the pattern\n",
    "    col = find_reflection(transpose(pattern), nonmatches)\n",
    "    if col is not None:\n",
    "        return col + 1\n",
    "\n",
    "# Initialize variables for part 1 and part 2\n",
    "p1 = 0\n",
    "p2 = 0\n",
    "\n",
    "# Loop through each input line\n",
    "for i, l in enumerate(ll):\n",
    "    # Solve for part 1 (nonmatches = 0) and part 2 (nonmatches = 2)\n",
    "    p1 += solve(l, 0)\n",
    "    p2 += solve(l, 2)\n",
    "\n",
    "# Print the results\n",
    "print(\"Part 1:\", p1)\n",
    "print(\"Part 2:\", p2)\n"
   ]
  }
 ],
 "metadata": {
  "kernelspec": {
   "display_name": "env",
   "language": "python",
   "name": "python3"
  },
  "language_info": {
   "codemirror_mode": {
    "name": "ipython",
    "version": 3
   },
   "file_extension": ".py",
   "mimetype": "text/x-python",
   "name": "python",
   "nbconvert_exporter": "python",
   "pygments_lexer": "ipython3",
   "version": "3.11.6"
  }
 },
 "nbformat": 4,
 "nbformat_minor": 2
}
