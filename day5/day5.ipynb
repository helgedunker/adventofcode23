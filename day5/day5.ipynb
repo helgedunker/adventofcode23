{
 "cells": [
  {
   "cell_type": "code",
   "execution_count": 6,
   "metadata": {},
   "outputs": [
    {
     "name": "stdout",
     "output_type": "stream",
     "text": [
      "240320250 28580589\n"
     ]
    }
   ],
   "source": [
    "#my part 2 solutoin was far too slow so I opted to push another solution that works far more efficient\n",
    "#since my solution opted to iterate over every seed range which took a humgous amount of time\n",
    "#also added some comments to this code since I was struggling to understand at first\n",
    "\n",
    "from functools import reduce\n",
    "\n",
    "seeds, *mappings = open('day5.txt').read().split('\\n\\n')\n",
    "seeds = list(map(int, seeds.split()[1:]))\n",
    "\n",
    "\n",
    "def lookup(inputs, mapping):\n",
    "    outputs = []\n",
    "\n",
    "    for start, length in inputs:\n",
    "        while length > 0:\n",
    "            for m in mapping.split('\\n')[1:]:\n",
    "                dst, src, len = map(int, m.split())\n",
    "                if src <= start < src+len: #if the given range is within the current interval\n",
    "                    len -= max(start-src, len-length) #reduce current length by maximum possible amount given the current interval\n",
    "                    outputs.append((start-src+dst, len)) #add adjusted starting position + length to outputs\n",
    "                    start += len #move start to the end of the current interval\n",
    "                    length -= len #reduce length by the amount we just moved\n",
    "                    break\n",
    "            else:\n",
    "                outputs.append((start, length))\n",
    "                break\n",
    "\n",
    "    return outputs\n",
    "\n",
    "\n",
    "print(\n",
    "    *[\n",
    "        min(reduce(lookup, mappings, s))[0] for s in \n",
    "        [\n",
    "            zip(seeds, [1] * len(seeds)), zip(seeds[0::2], seeds[1::2])\n",
    "            ]\n",
    "    ])"
   ]
  }
 ],
 "metadata": {
  "kernelspec": {
   "display_name": "env",
   "language": "python",
   "name": "python3"
  },
  "language_info": {
   "codemirror_mode": {
    "name": "ipython",
    "version": 3
   },
   "file_extension": ".py",
   "mimetype": "text/x-python",
   "name": "python",
   "nbconvert_exporter": "python",
   "pygments_lexer": "ipython3",
   "version": "3.11.6"
  }
 },
 "nbformat": 4,
 "nbformat_minor": 2
}
