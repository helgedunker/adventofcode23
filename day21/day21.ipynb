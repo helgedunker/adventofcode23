{
 "cells": [
  {
   "cell_type": "code",
   "execution_count": 19,
   "metadata": {},
   "outputs": [
    {
     "name": "stdout",
     "output_type": "stream",
     "text": [
      "3574\n",
      "600090522932119\n"
     ]
    }
   ],
   "source": [
    "grid = {i + j*1j: c for i,r in enumerate(open('day21.txt'))\n",
    "                 for j,c in enumerate(r) if c in '.S'}\n",
    "\n",
    "#original length/width of grid\n",
    "N = 131\n",
    "\n",
    "done = []\n",
    "todo = {x for x in grid if grid[x]=='S'}\n",
    "\n",
    "#loop over the total possible values of the grid\n",
    "for s in range(int(2.5*N)+1):\n",
    "    # part 1 at step 64, check how many steps there are\n",
    "    if s == 64: \n",
    "        print(len(todo))\n",
    "    # Append the length of 'todo' to the 'done' list when 's' is a multiple of 'N/2'\n",
    "    if s%N == N//2: \n",
    "        done.append(len(todo))\n",
    "\n",
    "    todo = {p+d for d in {1,-1,1j,-1j} for p in todo\n",
    "            if (p+d).real%N + (p+d).imag%N*1j in grid}\n",
    "\n",
    "#credit to /u/4HbQ for lambda magic\n",
    "f = lambda n,a,b,c: a+n*(b-a) +n*(n-1)//2*((c-b)-(b-a))\n",
    "#part two\n",
    "print(f(26501365//N, *done))"
   ]
  },
  {
   "cell_type": "code",
   "execution_count": null,
   "metadata": {},
   "outputs": [],
   "source": []
  }
 ],
 "metadata": {
  "kernelspec": {
   "display_name": "env",
   "language": "python",
   "name": "python3"
  },
  "language_info": {
   "codemirror_mode": {
    "name": "ipython",
    "version": 3
   },
   "file_extension": ".py",
   "mimetype": "text/x-python",
   "name": "python",
   "nbconvert_exporter": "python",
   "pygments_lexer": "ipython3",
   "version": "3.11.6"
  }
 },
 "nbformat": 4,
 "nbformat_minor": 2
}
