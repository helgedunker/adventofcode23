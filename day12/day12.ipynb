{
 "cells": [
  {
   "cell_type": "code",
   "execution_count": 17,
   "metadata": {},
   "outputs": [],
   "source": [
    "with open(\"day12.txt\", \"r\") as f:\n",
    "    data = f.read().strip().split(\"\\n\")\n",
    "    data = [d.split() for d in data]\n",
    "\n",
    "rows = [\n",
    "    (w1, tuple(map(int, w2.split(\",\")))) for w1, w2 in data\n",
    "]"
   ]
  },
  {
   "cell_type": "code",
   "execution_count": 22,
   "metadata": {},
   "outputs": [],
   "source": [
    "from functools import cache\n",
    "\n",
    "@cache\n",
    "def num_solutions(sequence, sizes, sequences_found=0):\n",
    "    # Base case: If the sequence is empty, check if there are no remaining sizes and sequences_found\n",
    "    if not sequence:\n",
    "        return not sizes and not sequences_found\n",
    "    \n",
    "    num_sols = 0  # Counter for the number of valid combinations\n",
    "    \n",
    "    # If the next letter is a \"?\", consider both possibilities: \".\" and \"#\"\n",
    "    possible = [\".\", \"#\"] if sequence[0] == \"?\" else sequence[0]\n",
    "    \n",
    "    # Iterate through each possibility\n",
    "    for char in possible:\n",
    "        if char == \"#\":\n",
    "            # Extend the current group and recursively explore the next symbols\n",
    "            num_sols += num_solutions(sequence[1:], sizes, sequences_found + 1)\n",
    "        else:\n",
    "            if sequences_found:\n",
    "                # If we were in a group that can be closed, close it and recursively explore the next symbols\n",
    "                if sizes and sizes[0] == sequences_found:\n",
    "                    num_sols += num_solutions(sequence[1:], sizes[1:])\n",
    "            else:\n",
    "                # If we are not in a group, move on to the next symbol and recursively explore the remaining symbols\n",
    "                num_sols += num_solutions(sequence[1:], sizes)\n",
    "    \n",
    "    return num_sols  # Return the total number of valid combinations\n"
   ]
  },
  {
   "cell_type": "code",
   "execution_count": 23,
   "metadata": {},
   "outputs": [
    {
     "name": "stdout",
     "output_type": "stream",
     "text": [
      "Part 1: 7694 \n",
      " Part 2: 5071883216318\n"
     ]
    }
   ],
   "source": [
    "print(\"Part 1:\", sum(\n",
    "    num_solutions(group + \".\", sizes) for group, sizes in rows\n",
    "), \"\\n\",\n",
    "\"Part 2:\", sum(\n",
    "    num_solutions(\"?\".join([group] * 5) + \".\", sizes * 5) for group, sizes in rows\n",
    "))"
   ]
  },
  {
   "cell_type": "code",
   "execution_count": null,
   "metadata": {},
   "outputs": [],
   "source": []
  }
 ],
 "metadata": {
  "kernelspec": {
   "display_name": "env",
   "language": "python",
   "name": "python3"
  },
  "language_info": {
   "codemirror_mode": {
    "name": "ipython",
    "version": 3
   },
   "file_extension": ".py",
   "mimetype": "text/x-python",
   "name": "python",
   "nbconvert_exporter": "python",
   "pygments_lexer": "ipython3",
   "version": "3.11.6"
  }
 },
 "nbformat": 4,
 "nbformat_minor": 2
}
