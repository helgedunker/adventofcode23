{
 "cells": [
  {
   "cell_type": "code",
   "execution_count": null,
   "metadata": {},
   "outputs": [],
   "source": [
    "with open(\"day15.txt\") as f:\n",
    "    puzzle_input = f.read()"
   ]
  },
  {
   "cell_type": "code",
   "execution_count": null,
   "metadata": {},
   "outputs": [],
   "source": [
    "total = 0\n",
    "for step in puzzle_input.split(\",\"):\n",
    "    current_val = 0\n",
    "    for char in step:\n",
    "        current_val += ord(char)\n",
    "        current_val *= 17\n",
    "        current_val %= 256\n",
    "    total += current_val\n",
    "print(total)\n"
   ]
  },
  {
   "cell_type": "code",
   "execution_count": null,
   "metadata": {},
   "outputs": [],
   "source": [
    "import re\n",
    "from collections import defaultdict\n",
    "\n",
    "label_occurrences = defaultdict(list)  # Dictionary to store label occurrences\n",
    "focal_lengths = defaultdict(list)  # Dictionary to store corresponding focal lengths\n",
    "regex_pattern = r'(\\w+)(=|-)(\\d+)?'  # Regular expression pattern to extract label, operator, and focal length\n",
    "\n",
    "# Extracting label, operator, and focal length from puzzle_input using regex\n",
    "for label, operator, focal_length in re.findall(regex_pattern, puzzle_input):\n",
    "\n",
    "    # Calculating a simple hash for the label to identify occurrences\n",
    "    label_hash = 0\n",
    "    for char in label:\n",
    "        label_hash = (label_hash + ord(char)) * 17 % 256\n",
    "\n",
    "    # Checking if the label already exists in the occurrences\n",
    "    if label in label_occurrences[label_hash]:\n",
    "        index = label_occurrences[label_hash].index(label)\n",
    "        if operator == \"-\":\n",
    "            # Removing label and corresponding focal length if the operator is \"-\"\n",
    "            label_occurrences[label_hash].pop(index)\n",
    "            focal_lengths[label_hash].pop(index)\n",
    "        else:\n",
    "            # Updating focal length if the operator is \"=\"\n",
    "            focal_lengths[label_hash][index] = int(focal_length)\n",
    "    elif operator == \"=\":\n",
    "        # Adding a new label and its focal length if the operator is \"=\"\n",
    "        label_occurrences[label_hash].append(label)\n",
    "        focal_lengths[label_hash].append(int(focal_length))\n",
    "\n",
    "# Calculating the total based on the given formula\n",
    "total = 0\n",
    "for box, lengths in focal_lengths.items():\n",
    "    for i, focal_length in enumerate(lengths, start=1):\n",
    "        total += (box + 1) * i * focal_length\n",
    "\n",
    "# Printing the final total\n",
    "print(total)"
   ]
  },
  {
   "cell_type": "code",
   "execution_count": null,
   "metadata": {},
   "outputs": [],
   "source": []
  }
 ],
 "metadata": {
  "kernelspec": {
   "display_name": "env",
   "language": "python",
   "name": "python3"
  },
  "language_info": {
   "codemirror_mode": {
    "name": "ipython",
    "version": 3
   },
   "file_extension": ".py",
   "mimetype": "text/x-python",
   "name": "python",
   "nbconvert_exporter": "python",
   "pygments_lexer": "ipython3",
   "version": "3.11.6"
  }
 },
 "nbformat": 4,
 "nbformat_minor": 2
}
