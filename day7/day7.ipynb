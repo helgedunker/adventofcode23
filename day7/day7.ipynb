{
 "cells": [
  {
   "cell_type": "code",
   "execution_count": 326,
   "metadata": {},
   "outputs": [],
   "source": [
    "with open(\"day7.txt\", \"r\") as f:\n",
    "    data = f.readlines()\n",
    "    data = [x.split() for x in data]\n",
    "    data = {\n",
    "        x[0] : x[1] for x in data\n",
    "    }"
   ]
  },
  {
   "cell_type": "code",
   "execution_count": 371,
   "metadata": {},
   "outputs": [],
   "source": [
    "from collections import Counter\n",
    "#assign relative values to cards which is high to low\n",
    "def get_hand_value(hand: str):\n",
    "    #count occurences of each card\n",
    "    c = Counter(hand)\n",
    "    #handle jokers\n",
    "    jokers = c.pop(\"*\", 0)\n",
    "    counts = [0] if jokers == 5 else sorted(c.values())\n",
    "    counts[-1] += jokers\n",
    "    #five of a kind\n",
    "    if 5 in counts:\n",
    "        return 7\n",
    "    # four of a kind\n",
    "    elif 4 in counts:\n",
    "        return 6\n",
    "    # full house\n",
    "    elif 3 in counts and 2 in counts:\n",
    "        return 5\n",
    "    # three of a kind\n",
    "    elif 3 in counts:\n",
    "        return 4\n",
    "    # two pair\n",
    "    elif list(counts).count(2) == 2:\n",
    "        return 3\n",
    "    # one pair\n",
    "    elif 2 in counts:\n",
    "        return 2\n",
    "    # high card\n",
    "    else:\n",
    "        return 1\n",
    "    \n",
    "def solve(data):\n",
    "    sorted_hands = sorted(\n",
    "        (get_hand_value(hand), *map(\"*23456789TJQKA\".index, hand), int(bid)) for hand, bid in data.items()\n",
    "    )\n",
    "    result = sum(rank * bid for rank, (*_, bid) in enumerate(sorted_hands, 1))\n",
    "    return result"
   ]
  },
  {
   "cell_type": "code",
   "execution_count": 372,
   "metadata": {},
   "outputs": [
    {
     "name": "stdout",
     "output_type": "stream",
     "text": [
      "251106089\n",
      "249620106\n"
     ]
    }
   ],
   "source": [
    "print(solve(data)) # part 1\n",
    "print(solve(({\n",
    "    k.replace(\"J\", \"*\") : v for k, v in data.items()\n",
    "})))"
   ]
  }
 ],
 "metadata": {
  "kernelspec": {
   "display_name": "env",
   "language": "python",
   "name": "python3"
  },
  "language_info": {
   "codemirror_mode": {
    "name": "ipython",
    "version": 3
   },
   "file_extension": ".py",
   "mimetype": "text/x-python",
   "name": "python",
   "nbconvert_exporter": "python",
   "pygments_lexer": "ipython3",
   "version": "3.11.6"
  }
 },
 "nbformat": 4,
 "nbformat_minor": 2
}
