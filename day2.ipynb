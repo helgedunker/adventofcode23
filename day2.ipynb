{
 "cells": [
  {
   "cell_type": "code",
   "execution_count": 61,
   "metadata": {},
   "outputs": [],
   "source": [
    "with open (\"day2.txt\", \"r\") as myfile:\n",
    "    data=myfile.readlines()\n",
    "#remove trailing \\n\n",
    "data = [x.strip() for x in data]\n",
    "# transform data to a dictionary\n",
    "data = {\n",
    "    x.split(\":\")[0]: x.split(\":\")[1] for x in data\n",
    "}\n",
    "available_cubes = {\"red\":12, \"green\":13, \"blue\":14}"
   ]
  },
  {
   "cell_type": "code",
   "execution_count": 62,
   "metadata": {},
   "outputs": [
    {
     "name": "stdout",
     "output_type": "stream",
     "text": [
      "Sum of game ids:  2563\n"
     ]
    }
   ],
   "source": [
    "from itertools import chain\n",
    "\n",
    "example_val = data[\"Game 1\"]\n",
    "\n",
    "def analyze_game(game: str) -> bool:\n",
    "    list_of_displays = game.split(\";\")\n",
    "    all_cube_occurences = list(chain.from_iterable([x.split(\",\") for x in list_of_displays]))\n",
    "    all_cube_occurences\n",
    "\n",
    "    # find the maximum number of cubes per color\n",
    "    game_res_map = {\"red\": 0, \"green\": 0, \"blue\": 0}\n",
    "    for x in all_cube_occurences:\n",
    "        x = x.strip()\n",
    "        amount = int(x.split(\" \")[0])\n",
    "        color = x.split(\" \")[1]\n",
    "        if game_res_map[color] < amount:\n",
    "            game_res_map[color] = amount\n",
    "\n",
    "    #check if the game is possible\n",
    "    for color, amount in game_res_map.items():\n",
    "        if amount > available_cubes[color]:\n",
    "            return False\n",
    "        \n",
    "    return True\n",
    "\n",
    "sum_of_game_ids = 0\n",
    "for game_id, game in data.items():\n",
    "    if analyze_game(game):\n",
    "        sum_of_game_ids += int(game_id.split(\" \")[1])\n",
    "\n",
    "print(\"Sum of game ids: \", sum_of_game_ids)"
   ]
  },
  {
   "cell_type": "code",
   "execution_count": 63,
   "metadata": {},
   "outputs": [
    {
     "name": "stdout",
     "output_type": "stream",
     "text": [
      "Total of products:  70768\n"
     ]
    }
   ],
   "source": [
    "# part 2 find the fewest set of cubes needed for a game\n",
    "def analyze_game_part2(game: str) -> bool:\n",
    "    list_of_displays = game.split(\";\")\n",
    "    all_cube_occurences = list(chain.from_iterable([x.split(\",\") for x in list_of_displays]))\n",
    "    all_cube_occurences\n",
    "\n",
    "    # find the maximum number of cubes per color\n",
    "    game_res_map = {\"red\": 0, \"green\": 0, \"blue\": 0}\n",
    "    for x in all_cube_occurences:\n",
    "        x = x.strip()\n",
    "        amount = int(x.split(\" \")[0])\n",
    "        color = x.split(\" \")[1]\n",
    "        if game_res_map[color] < amount:\n",
    "            game_res_map[color] = amount\n",
    "\n",
    "    sum_of_products = 0\n",
    "    #multipley values of game_res_map\n",
    "    product = 1\n",
    "    for x in game_res_map:\n",
    "        product = product * game_res_map[x]\n",
    "\n",
    "    return product\n",
    "\n",
    "\n",
    "    \n",
    "total_of_products = 0\n",
    "for game_id, game in data.items():\n",
    "    total_of_products += analyze_game_part2(game)\n",
    "\n",
    "print(\"Total of products: \", total_of_products)\n",
    "    "
   ]
  }
 ],
 "metadata": {
  "kernelspec": {
   "display_name": "env",
   "language": "python",
   "name": "python3"
  },
  "language_info": {
   "codemirror_mode": {
    "name": "ipython",
    "version": 3
   },
   "file_extension": ".py",
   "mimetype": "text/x-python",
   "name": "python",
   "nbconvert_exporter": "python",
   "pygments_lexer": "ipython3",
   "version": "3.10.12"
  }
 },
 "nbformat": 4,
 "nbformat_minor": 2
}
