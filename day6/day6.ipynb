{
 "cells": [
  {
   "cell_type": "code",
   "execution_count": 35,
   "metadata": {},
   "outputs": [],
   "source": [
    "with open(\"day6.txt\", \"r\") as f:\n",
    "    data = f.readlines()\n",
    "    data =  [\n",
    "        x.split(\":\")[1].strip().split() for x in data if x != \"\"\n",
    "    ]\n",
    "    #transform to int\n",
    "    data = [\n",
    "        [int(x) for x in lst] for lst in data\n",
    "    ]"
   ]
  },
  {
   "cell_type": "code",
   "execution_count": 36,
   "metadata": {},
   "outputs": [
    {
     "name": "stdout",
     "output_type": "stream",
     "text": [
      "1083852\n"
     ]
    }
   ],
   "source": [
    "#part 1\n",
    "import numpy as np\n",
    "\n",
    "time, distance = data\n",
    "\n",
    "#for every second holding the button the boat moves 1 unit per second more after releasing the button\n",
    "# find all possible durations of holding the button to reach the distance in the given time\n",
    "race_winning_plays = []\n",
    "\n",
    "for i, t in enumerate(time):\n",
    "    speeds = range(t+1) # holding the button for n seconds means the boat moves n units per second\n",
    "    \n",
    "    #find all possible combinations of speeds that reach the distance in the given time\n",
    "    solutions = []\n",
    "    for s in speeds:\n",
    "        time_spent_traveling = t - s\n",
    "        distance_reached = s * time_spent_traveling\n",
    "\n",
    "        if distance_reached > distance[i]:\n",
    "            solutions.append(s)\n",
    "    \n",
    "    race_winning_plays.append(len(solutions))\n",
    "\n",
    "    \n",
    "#multiply all race winning plays\n",
    "print(\n",
    "    np.prod(race_winning_plays)\n",
    ")\n",
    "        \n"
   ]
  },
  {
   "cell_type": "code",
   "execution_count": 37,
   "metadata": {},
   "outputs": [
    {
     "name": "stdout",
     "output_type": "stream",
     "text": [
      "23501589\n"
     ]
    }
   ],
   "source": [
    "# part 2 different dat\n",
    "\n",
    "time, distance = data\n",
    "time = int(\"\".join(map(str, time)))\n",
    "distance = int(\"\".join(map(str, distance)))\n",
    "\n",
    "race_winning_plays = []\n",
    "\n",
    "\n",
    "speeds = range(time+1) # holding the button for n seconds means the boat moves n units per second\n",
    "\n",
    "#find all possible combinations of speeds that reach the distance in the given time\n",
    "solutions = []\n",
    "for s in speeds:\n",
    "    time_spent_traveling = time - s\n",
    "    distance_reached = s * time_spent_traveling\n",
    "\n",
    "    if distance_reached > distance:\n",
    "        solutions.append(s)\n",
    "\n",
    "race_winning_plays.append(len(solutions))\n",
    "\n",
    "    \n",
    "#multiply all race winning plays\n",
    "print(\n",
    "    np.prod(race_winning_plays)\n",
    ")"
   ]
  }
 ],
 "metadata": {
  "kernelspec": {
   "display_name": "env",
   "language": "python",
   "name": "python3"
  },
  "language_info": {
   "codemirror_mode": {
    "name": "ipython",
    "version": 3
   },
   "file_extension": ".py",
   "mimetype": "text/x-python",
   "name": "python",
   "nbconvert_exporter": "python",
   "pygments_lexer": "ipython3",
   "version": "3.10.12"
  }
 },
 "nbformat": 4,
 "nbformat_minor": 2
}
