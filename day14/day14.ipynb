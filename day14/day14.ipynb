{
 "cells": [
  {
   "cell_type": "code",
   "execution_count": 1,
   "metadata": {},
   "outputs": [],
   "source": [
    "# Open the file \"day14.txt\" and read its content\n",
    "with open(\"day14.txt\") as f:\n",
    "    # Read the content, strip leading/trailing whitespaces, and split lines\n",
    "    puzzle_map = f.read().strip().split('\\n')\n",
    "\n",
    "# Create a dictionary 'board' to represent the grid where keys are complex numbers (i + 1j * j) and values are characters from the input map\n",
    "board = {i + 1j * j: x for i, l in enumerate(puzzle_map) for j, x in enumerate(l)}\n",
    "\n",
    "# Identify positions (indices) where the character is \"#\", representing blocked cells\n",
    "blocked = {index for index, value in board.items() if value == \"#\"}\n",
    "\n",
    "# Identify positions (indices) where the character is \"O\", representing initial positions of rounds\n",
    "rounds = {index for index, value in board.items() if value == \"O\"}\n"
   ]
  },
  {
   "cell_type": "code",
   "execution_count": 3,
   "metadata": {},
   "outputs": [
    {
     "name": "stdout",
     "output_type": "stream",
     "text": [
      "108759.0\n"
     ]
    }
   ],
   "source": [
    "from itertools import count\n",
    "\n",
    "# Function to tilt the grid by a given distance 'd' for a specified number of rounds\n",
    "def tilt_grid(rounds, d=1):\n",
    "    while True:\n",
    "        # Determine the free positions on the board\n",
    "        free = board.keys() - rounds - blocked\n",
    "        # Tilt the grid by adjusting the positions of the rounds\n",
    "        newrounds = {z - d if z - d in free else z for z in rounds}\n",
    "        # If no change occurred in the positions, return the result\n",
    "        if newrounds == rounds:\n",
    "            return newrounds\n",
    "        rounds = newrounds\n",
    "\n",
    "# Function to calculate the load on the grid based on the positions\n",
    "def load(rounds):\n",
    "    return sum(100 - z.real for z in rounds)\n",
    "\n",
    "# Function to perform a cycle of tilting in four directions (up, down, left, right)\n",
    "def cycle(rounds):\n",
    "    for d in (1, 1j, -1, -1j):\n",
    "        rounds = tilt_grid(rounds, d)\n",
    "    return rounds\n",
    "\n",
    "# Calculate and print the load after tilting the grid\n",
    "print(load(tilt_grid(rounds)))\n",
    "\n",
    "# Part 2: Find the load after a large number of cycles\n",
    "visited = []\n",
    "for i in count():\n",
    "    rounds = cycle(rounds)\n",
    "    # Check if the current configuration has been visited before\n",
    "    if rounds in visited:\n",
    "        # If visited, find the start index and break the loop\n",
    "        start = visited.index(rounds)\n",
    "        break\n",
    "    visited.append(rounds)\n",
    "\n",
    "# Calculate and print the load after a specified number of cycles\n",
    "print(load(visited[(1000000000 - i) % (start - i) + i - 1]))\n"
   ]
  }
 ],
 "metadata": {
  "kernelspec": {
   "display_name": "env",
   "language": "python",
   "name": "python3"
  },
  "language_info": {
   "codemirror_mode": {
    "name": "ipython",
    "version": 3
   },
   "file_extension": ".py",
   "mimetype": "text/x-python",
   "name": "python",
   "nbconvert_exporter": "python",
   "pygments_lexer": "ipython3",
   "version": "3.11.6"
  }
 },
 "nbformat": 4,
 "nbformat_minor": 2
}
