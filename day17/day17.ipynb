{
 "cells": [
  {
   "cell_type": "code",
   "execution_count": 5,
   "metadata": {},
   "outputs": [],
   "source": [
    "from heapq import heappop, heappush\n",
    "\n",
    "graph = {i + j*1j: int(c) for i,r in enumerate(open('day17.txt'))\n",
    "                      for j,c in enumerate(r.strip())}\n"
   ]
  },
  {
   "cell_type": "code",
   "execution_count": 6,
   "metadata": {},
   "outputs": [
    {
     "name": "stdout",
     "output_type": "stream",
     "text": [
      "724 877\n"
     ]
    }
   ],
   "source": [
    "def calculate_values(minimum, maximum, graph=graph, end_position=[*graph][-1], starting_value=0):\n",
    "    todo = [(starting_value, 0, 0, 1), (starting_value, 0, 0, 1j)]  # Priority queue for the algorithm\n",
    "    seen = set()  # Set to store visited positions\n",
    "\n",
    "    while todo:\n",
    "        value, _, position, direction = heappop(todo)\n",
    "\n",
    "        if position == end_position:\n",
    "            return value  # Return the value when reaching the end position\n",
    "        if (position, direction) in seen:\n",
    "            continue  # Skip if the current position and direction have already been visited\n",
    "        seen.add((position, direction))\n",
    "\n",
    "        # Iterate over possible directions\n",
    "        for d in 1j / direction, -1j / direction:\n",
    "            for i in range(minimum, maximum + 1):\n",
    "                if position + d * i in graph:\n",
    "                    # Calculate the sum of values along the path\n",
    "                    path_value = sum(graph[position + d * j] for j in range(1, i + 1))\n",
    "                    # Add the new state to the priority queue\n",
    "                    heappush(todo, (value + path_value, (starting_value := starting_value + 1), position + d * i, d))\n",
    "\n",
    "\n",
    "print(\n",
    "    calculate_values(1,3),\n",
    "    calculate_values(4,10),\n",
    ")"
   ]
  }
 ],
 "metadata": {
  "kernelspec": {
   "display_name": "env",
   "language": "python",
   "name": "python3"
  },
  "language_info": {
   "codemirror_mode": {
    "name": "ipython",
    "version": 3
   },
   "file_extension": ".py",
   "mimetype": "text/x-python",
   "name": "python",
   "nbconvert_exporter": "python",
   "pygments_lexer": "ipython3",
   "version": "3.11.6"
  }
 },
 "nbformat": 4,
 "nbformat_minor": 2
}
