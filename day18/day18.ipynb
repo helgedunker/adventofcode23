{
 "cells": [
  {
   "cell_type": "code",
   "execution_count": 15,
   "metadata": {},
   "outputs": [],
   "source": [
    "with open(\"day18.txt\", \"r\") as f:\n",
    "    lines = f.read().splitlines()\n",
    "\n",
    "instructions = []\n",
    "\n",
    "for line in lines:\n",
    "    instructions.append(line.split(\" \"))"
   ]
  },
  {
   "cell_type": "code",
   "execution_count": 16,
   "metadata": {},
   "outputs": [
    {
     "data": {
      "text/plain": [
       "52035"
      ]
     },
     "execution_count": 16,
     "metadata": {},
     "output_type": "execute_result"
    }
   ],
   "source": [
    "points = set()\n",
    "starting_point = (0, 0)\n",
    "points.add(starting_point)\n",
    "current_location = starting_point\n",
    "\n",
    "for ins in instructions:\n",
    "    d, l, c = ins\n",
    "\n",
    "    if d == \"R\":\n",
    "        for _ in range(int(l)):\n",
    "            current_location = (current_location[0] + 1, current_location[1])\n",
    "            points.add(current_location)\n",
    "    elif d == \"L\":\n",
    "        for _ in range(int(l)):\n",
    "            current_location = (current_location[0] - 1, current_location[1])\n",
    "            points.add(current_location)\n",
    "    elif d == \"U\":\n",
    "        for _ in range(int(l)):\n",
    "            current_location = (current_location[0], current_location[1] + 1)\n",
    "            points.add(current_location)\n",
    "    elif d == \"D\":\n",
    "        for _ in range(int(l)):\n",
    "            current_location = (current_location[0], current_location[1] - 1)\n",
    "            points.add(current_location)\n",
    "\n",
    "x, y = min(points)\n",
    "\n",
    "queue = [[x+1, y+1]]\n",
    "\n",
    "while queue:\n",
    "    x1, y1 = queue.pop()\n",
    "    for dx, dy in [(1, 0), (0, 1), (-1, 0), (0, -1)]:\n",
    "        x2, y2 = x1 + dx, y1 + dy\n",
    "        if (x2, y2) not in points:\n",
    "            queue.append([x2, y2])\n",
    "            points.add((x2, y2))\n",
    "\n",
    "len(points)"
   ]
  },
  {
   "cell_type": "code",
   "execution_count": 23,
   "metadata": {},
   "outputs": [
    {
     "data": {
      "text/plain": [
       "60612092439765"
      ]
     },
     "execution_count": 23,
     "metadata": {},
     "output_type": "execute_result"
    }
   ],
   "source": [
    "directions = {0: (1,0), 1: (0,1), 2: (-1,0), 3: (0,-1)}\n",
    "x = y = 0\n",
    "\n",
    "corners = [(0,0)]\n",
    "\n",
    "boundary = 0\n",
    "\n",
    "for ins in instructions:\n",
    "    _, __, c = ins\n",
    "    c = c.replace(\"(\", \"\").replace(\")\", \"\")\n",
    "    l = int(c[1:-1], 16)\n",
    "    d = c[-1]\n",
    "\n",
    "    dx, dy = directions[int(d)]\n",
    "\n",
    "    x += dx * l\n",
    "    y += dy * l\n",
    "    boundary += l\n",
    "    corners.append((x, y))\n",
    "\n",
    "\n",
    "interior = 0\n",
    "\n",
    "# shoelace method\n",
    "for i in range(len(corners) - 1):\n",
    "    (x1, y1), (x2, y2) = corners[i:i+2]\n",
    "    interior += x1 * y2 - x2 * y1\n",
    "\n",
    "\n",
    "interior = abs(interior) // 2\n",
    "\n",
    "# picks theorem\n",
    "total = interior + boundary // 2 + 1\n",
    "\n",
    "total"
   ]
  }
 ],
 "metadata": {
  "kernelspec": {
   "display_name": "env",
   "language": "python",
   "name": "python3"
  },
  "language_info": {
   "codemirror_mode": {
    "name": "ipython",
    "version": 3
   },
   "file_extension": ".py",
   "mimetype": "text/x-python",
   "name": "python",
   "nbconvert_exporter": "python",
   "pygments_lexer": "ipython3",
   "version": "3.11.6"
  }
 },
 "nbformat": 4,
 "nbformat_minor": 2
}
