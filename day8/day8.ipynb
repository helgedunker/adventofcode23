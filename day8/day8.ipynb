{
 "cells": [
  {
   "cell_type": "code",
   "execution_count": 1,
   "metadata": {},
   "outputs": [],
   "source": [
    "with open(\"day8.txt\", \"r\") as f:\n",
    "    data = f.read().splitlines()\n",
    "    data = [x for x in data if x != '']\n",
    "\n",
    "instructions, combinations = list(data[0]), data[1:]"
   ]
  },
  {
   "cell_type": "code",
   "execution_count": 2,
   "metadata": {},
   "outputs": [],
   "source": [
    "c = {}\n",
    "for x in combinations:\n",
    "    node, values = x.split(\"=\")[0].strip(), x.split(\"=\")[1].strip()\n",
    "    values = values.replace(\"(\", \"\").replace(\")\", \"\").replace(\" \", \"\").split(\",\")\n",
    "\n",
    "\n",
    "    c[node] = values\n",
    "    "
   ]
  },
  {
   "cell_type": "code",
   "execution_count": 3,
   "metadata": {},
   "outputs": [
    {
     "name": "stdout",
     "output_type": "stream",
     "text": [
      "21883\n",
      "12833235391111\n"
     ]
    }
   ],
   "source": [
    "pos = \"AAA\"\n",
    "end = \"ZZZ\"\n",
    "i = 0\n",
    "\n",
    "while pos != end:\n",
    "    d = instructions[i%len(instructions)] #get direction\n",
    "    pos = c[pos][0 if d==\"L\" else 1] #get new position\n",
    "    i += 1\n",
    "print(i)\n",
    "\n",
    "#multiple startin points\n",
    "import math\n",
    "\n",
    "def solveposition(s):\n",
    "    pos = s\n",
    "    i = 0\n",
    "    while not pos.endswith(\"Z\"):\n",
    "        d = instructions[i%len(instructions)] #get direction\n",
    "        pos = c[pos][0 if d==\"L\" else 1] #get new position\n",
    "        i += 1\n",
    "    return i\n",
    "\n",
    "p2 = 1\n",
    "for start in c:\n",
    "    if start.endswith(\"A\"):\n",
    "        p2 = math.lcm(p2, solveposition(start))\n",
    "    \n",
    "print(p2)"
   ]
  }
 ],
 "metadata": {
  "kernelspec": {
   "display_name": "env",
   "language": "python",
   "name": "python3"
  },
  "language_info": {
   "codemirror_mode": {
    "name": "ipython",
    "version": 3
   },
   "file_extension": ".py",
   "mimetype": "text/x-python",
   "name": "python",
   "nbconvert_exporter": "python",
   "pygments_lexer": "ipython3",
   "version": "3.11.6"
  }
 },
 "nbformat": 4,
 "nbformat_minor": 2
}
