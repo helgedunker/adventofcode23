{
 "cells": [
  {
   "cell_type": "code",
   "execution_count": 37,
   "metadata": {},
   "outputs": [],
   "source": [
    "from itertools import combinations\n",
    "\n",
    "with open(\"day11.txt\", \"r\") as f:\n",
    "    data = f.readlines()\n",
    "    data = [line.strip() for line in data]\n",
    "\n",
    "def find_points(map):\n",
    "    #return the stars\n",
    "    return [(i,j) for i, line in enumerate(map) for j, char in enumerate(line) if char == \"#\"]\n",
    "\n",
    "def cols_without_points(points):\n",
    "    #set of columns without stars\n",
    "    xs = [x for x,y in points]\n",
    "    return {col for col in range(max(xs)) if col not in xs}\n",
    "\n",
    "def rows_without_points(points):\n",
    "    #set of rows without stars\n",
    "    ys = [y for x,y in points]\n",
    "    return {row for row in range(max(ys)) if row not in ys}\n",
    "\n",
    "def sum_of_distances(points, factor, empty_cols, empty_rows, res=0):\n",
    "    #shoutout to combinations\n",
    "    for (xs1, ys1), (xs2, ys2) in combinations(points, 2):\n",
    "        res += abs(xs2 - xs1) + abs(ys2 - ys1)\n",
    "        res += (factor - 1) * sum(min(xs1, xs2) < ec < max(xs1, xs2) for ec in empty_cols)\n",
    "        res += (factor - 1) * sum(min(ys1, ys2) < er < max(ys1, ys2) for er in empty_rows)\n",
    "    return res"
   ]
  },
  {
   "cell_type": "code",
   "execution_count": 38,
   "metadata": {},
   "outputs": [
    {
     "name": "stdout",
     "output_type": "stream",
     "text": [
      "9627977\n",
      "644248339497\n"
     ]
    }
   ],
   "source": [
    "points = find_points(data)\n",
    "empty_cols = cols_without_points(points)\n",
    "empty_rows = rows_without_points(points)\n",
    "\n",
    "print(sum_of_distances(points, 2, empty_cols, empty_rows))\n",
    "print(sum_of_distances(points, 1_000_000, empty_cols, empty_rows))"
   ]
  },
  {
   "cell_type": "code",
   "execution_count": null,
   "metadata": {},
   "outputs": [],
   "source": []
  }
 ],
 "metadata": {
  "kernelspec": {
   "display_name": "env",
   "language": "python",
   "name": "python3"
  },
  "language_info": {
   "codemirror_mode": {
    "name": "ipython",
    "version": 3
   },
   "file_extension": ".py",
   "mimetype": "text/x-python",
   "name": "python",
   "nbconvert_exporter": "python",
   "pygments_lexer": "ipython3",
   "version": "3.11.6"
  }
 },
 "nbformat": 4,
 "nbformat_minor": 2
}
