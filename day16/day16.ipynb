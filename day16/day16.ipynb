{
 "cells": [
  {
   "cell_type": "code",
   "execution_count": 1,
   "metadata": {},
   "outputs": [],
   "source": [
    "# Creating a dictionary 'puzzle_input' using complex numbers as keys and characters from 'data.txt' as values\n",
    "puzzle_input = {complex(i, j): c for j, r in enumerate(open('day16.txt'))\n",
    "     for i, c in enumerate(r.strip())}\n"
   ]
  },
  {
   "cell_type": "code",
   "execution_count": 2,
   "metadata": {},
   "outputs": [
    {
     "name": "stdout",
     "output_type": "stream",
     "text": [
      "6906\n",
      "7330\n"
     ]
    }
   ],
   "source": [
    "def fn(todo):\n",
    "    done = set()  # Set to store visited positions\n",
    "    while todo:\n",
    "        pos, dir = todo.pop()\n",
    "        while not (pos, dir) in done:\n",
    "            done.add((pos, dir))\n",
    "            pos += dir\n",
    "            # Using match statement to handle different cases based on the character at the current position\n",
    "            match puzzle_input.get(pos):\n",
    "                case '|':\n",
    "                    dir = 1j\n",
    "                    todo.append((pos, -dir))\n",
    "                case '-':\n",
    "                    dir = -1\n",
    "                    todo.append((pos, -dir))\n",
    "                case '/':\n",
    "                    dir = -complex(dir.imag, dir.real)\n",
    "                case '\\\\':\n",
    "                    dir = complex(dir.imag, dir.real)\n",
    "                case None:\n",
    "                    break\n",
    "\n",
    "    return len(set(pos for pos, _ in done)) - 1\n",
    "\n",
    "# Printing the result for the starting position (-1, 1)\n",
    "print(fn([(-1, 1)]))\n",
    "\n",
    "# Finding the maximum result for all possible starting positions and directions\n",
    "print(max(map(fn, ([(pos - dir, dir)] for dir in (1, 1j, -1, -1j) for pos in puzzle_input if pos - dir not in puzzle_input))))\n"
   ]
  },
  {
   "cell_type": "code",
   "execution_count": null,
   "metadata": {},
   "outputs": [],
   "source": []
  }
 ],
 "metadata": {
  "kernelspec": {
   "display_name": "env",
   "language": "python",
   "name": "python3"
  },
  "language_info": {
   "codemirror_mode": {
    "name": "ipython",
    "version": 3
   },
   "file_extension": ".py",
   "mimetype": "text/x-python",
   "name": "python",
   "nbconvert_exporter": "python",
   "pygments_lexer": "ipython3",
   "version": "3.11.6"
  }
 },
 "nbformat": 4,
 "nbformat_minor": 2
}
