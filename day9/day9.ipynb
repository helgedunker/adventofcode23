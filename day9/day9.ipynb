{
 "cells": [
  {
   "cell_type": "code",
   "execution_count": 1,
   "metadata": {},
   "outputs": [],
   "source": [
    "#get input\n",
    "with open(\"day9.txt\", \"r\") as f:\n",
    "    data = f.read().splitlines()\n",
    "    data = [[int(x) for x in line.split()] for line in data]\n"
   ]
  },
  {
   "cell_type": "code",
   "execution_count": 2,
   "metadata": {},
   "outputs": [],
   "source": [
    "def get_seq_differences(seq: list[int]) -> list[int]:\n",
    "    return [seq[i+1] - seq[i] for i in range(len(seq)-1)]\n",
    "\n",
    "def genereate_all_sequences(seq: list[int]) -> list[list[int]]:\n",
    "    #this function continues to get sequence differences until all elements are 0 in a sequence\n",
    "    end_seq = False\n",
    "    all_seq = [seq]\n",
    "    while not end_seq:\n",
    "        seq = get_seq_differences(seq)\n",
    "        all_seq.append(seq)\n",
    "        if all([x == 0 for x in seq]):\n",
    "            end_seq = True\n",
    "    return all_seq\n",
    "\n",
    "def predict_next_val(seqs: list[list[int]]) -> list[list[int]]:\n",
    "    #based on the last sequence, add a value and stepwise add it to the next sequence until reaching the first sequence and return the new value in the first sequence\n",
    "    for i, seq in enumerate(reversed(seqs)):\n",
    "        next_val = seq[-1] if i == 0 else seq[-1] + seqs[-i][-1]\n",
    "        seq.append(\n",
    "            next_val\n",
    "        )\n",
    "\n",
    "    return seqs[0][-1]\n",
    "\n",
    "def predict_previous_val(seqs: list[list[int]]) -> list[list[int]]:\n",
    "    #based on the first sequence, stepwise subtract the value from the next sequence until reaching the last sequence and return the new value in the last sequence\n",
    "    for i, seq in enumerate(reversed(seqs)):\n",
    "        next_val = seq[0] if i == 0 else seq[0] - seqs[-i][0]\n",
    "        seq.insert(0,\n",
    "            next_val\n",
    "        )\n",
    "\n",
    "    return seqs[0][0]"
   ]
  },
  {
   "cell_type": "code",
   "execution_count": 3,
   "metadata": {},
   "outputs": [
    {
     "name": "stdout",
     "output_type": "stream",
     "text": [
      "1930746032\n",
      "1154\n"
     ]
    }
   ],
   "source": [
    "res1 = 0\n",
    "res2 = 0\n",
    "for line in data:\n",
    "    res1 += predict_next_val(genereate_all_sequences(line))\n",
    "    res2 += predict_previous_val(genereate_all_sequences(line))\n",
    "print(res1)\n",
    "print(res2)"
   ]
  }
 ],
 "metadata": {
  "kernelspec": {
   "display_name": "env",
   "language": "python",
   "name": "python3"
  },
  "language_info": {
   "codemirror_mode": {
    "name": "ipython",
    "version": 3
   },
   "file_extension": ".py",
   "mimetype": "text/x-python",
   "name": "python",
   "nbconvert_exporter": "python",
   "pygments_lexer": "ipython3",
   "version": "3.10.12"
  }
 },
 "nbformat": 4,
 "nbformat_minor": 2
}
