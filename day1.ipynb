{
 "cells": [
  {
   "cell_type": "code",
   "execution_count": 8,
   "metadata": {},
   "outputs": [],
   "source": [
    "#puzzle 1 \n",
    "with open(\"day1.txt\", \"r\") as f:\n",
    "    puzzle_list = f.read().splitlines()"
   ]
  },
  {
   "cell_type": "code",
   "execution_count": 9,
   "metadata": {},
   "outputs": [],
   "source": [
    "test_list = \"\"\"two1nine\n",
    "eightwothree\n",
    "abcone2threexyz\n",
    "xtwone3four\n",
    "4nineeightseven2\n",
    "zoneight234\n",
    "7pqrstsixteen\"\"\".split(\"\\n\")"
   ]
  },
  {
   "cell_type": "code",
   "execution_count": 10,
   "metadata": {},
   "outputs": [],
   "source": [
    "def find_numbers(x: str) -> int:\n",
    "    number = [letter for letter in x if letter.isdigit() == True]\n",
    "    if len(number) == 1:\n",
    "        return int(number[0] + number[0])\n",
    "    elif len(number) >= 2:\n",
    "        return int(number[0] + number[-1])\n",
    "    \n",
    "res = [find_numbers(x) for x in puzzle_list if x != \"\"]"
   ]
  },
  {
   "cell_type": "code",
   "execution_count": 11,
   "metadata": {},
   "outputs": [],
   "source": [
    "#second part, also consider numbers written as words and find the first and last number of a string\n",
    "number_map = {\n",
    "    \"zero\": 0,\n",
    "    \"one\" : 1,\n",
    "    \"two\" : 2,\n",
    "    \"three\" : 3,\n",
    "    \"four\" : 4,\n",
    "    \"five\" : 5,\n",
    "    \"six\" : 6,\n",
    "    \"seven\" : 7,\n",
    "    \"eight\" : 8,\n",
    "    \"nine\" : 9\n",
    "}"
   ]
  },
  {
   "cell_type": "code",
   "execution_count": 12,
   "metadata": {},
   "outputs": [
    {
     "data": {
      "text/plain": [
       "56017"
      ]
     },
     "execution_count": 12,
     "metadata": {},
     "output_type": "execute_result"
    }
   ],
   "source": [
    "def find_numbers_with_words(x:str) -> int:\n",
    "    index_map = {}\n",
    "    \n",
    "    for i, letter in enumerate(x):\n",
    "        if letter.isdigit() == True:\n",
    "            index_map[i] = int(letter)\n",
    "\n",
    "    for number in number_map.keys():\n",
    "        index_map[x.find(number)] = number_map[number]\n",
    "        index_map[x.rfind(number)] = number_map[number]\n",
    "\n",
    "    #drop -1 key\n",
    "    index_map.pop(-1)\n",
    "    min_key = min(index_map.keys())\n",
    "    max_key = max(index_map.keys())\n",
    "    return int(\n",
    "        str(index_map[min_key]) + str(index_map[max_key])\n",
    "    )\n",
    "\n",
    "res = [find_numbers_with_words(x) for x in puzzle_list if x != \"\"]\n",
    "sum(res)"
   ]
  }
 ],
 "metadata": {
  "kernelspec": {
   "display_name": "env",
   "language": "python",
   "name": "python3"
  },
  "language_info": {
   "codemirror_mode": {
    "name": "ipython",
    "version": 3
   },
   "file_extension": ".py",
   "mimetype": "text/x-python",
   "name": "python",
   "nbconvert_exporter": "python",
   "pygments_lexer": "ipython3",
   "version": "3.11.6"
  }
 },
 "nbformat": 4,
 "nbformat_minor": 2
}
