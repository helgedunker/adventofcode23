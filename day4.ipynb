{
 "cells": [
  {
   "cell_type": "code",
   "execution_count": 8,
   "metadata": {},
   "outputs": [],
   "source": [
    "with open(\"day4.txt\", \"r\") as myinput:\n",
    "    lines = myinput.readlines()\n",
    "    lines = [line.strip() for line in lines]\n"
   ]
  },
  {
   "cell_type": "code",
   "execution_count": 9,
   "metadata": {},
   "outputs": [
    {
     "name": "stdout",
     "output_type": "stream",
     "text": [
      "21568\n"
     ]
    }
   ],
   "source": [
    "result = 0\n",
    "\n",
    "for line in lines:\n",
    "    \n",
    "    winning_numbers, player_numbers = line.split(\":\")[1].split(\"|\")\n",
    "\n",
    "    matches = [x for number in player_numbers.split() for x in winning_numbers.split() if number == x]\n",
    "    if len(matches) > 0:\n",
    "        result += 1 * 2 ** (len(matches) - 1)\n",
    "\n",
    "print(result)\n"
   ]
  },
  {
   "cell_type": "code",
   "execution_count": 10,
   "metadata": {},
   "outputs": [
    {
     "name": "stdout",
     "output_type": "stream",
     "text": [
      "11827296\n",
      "11827296\n",
      "11827296\n",
      "11827296\n",
      "11827296\n",
      "11827296\n",
      "11827296\n",
      "11827296\n",
      "1min 31s ± 1.04 s per loop (mean ± std. dev. of 7 runs, 1 loop each)\n"
     ]
    }
   ],
   "source": [
    "%%timeit\n",
    "#part two\n",
    "game_map = {k : 1 for k in range(0, len(lines))}\n",
    "#1 scratchard per game\n",
    "for i, line in enumerate(lines):\n",
    "\n",
    "    for games in range(game_map[i]):\n",
    "        winning_numbers, player_numbers = line.split(\":\")[1].split(\"|\")\n",
    "        matches = [x for number in player_numbers.split() for x in winning_numbers.split() if number == x]\n",
    "\n",
    "        #for every match I get a copy of the next n cards\n",
    "        if len(matches) == 0:\n",
    "            continue\n",
    "        else:\n",
    "            for j in range(1, len(matches) + 1):\n",
    "                game_map[i + j] += 1\n",
    "    \n",
    "print(sum(\n",
    "    game_map.values()\n",
    "))"
   ]
  },
  {
   "cell_type": "code",
   "execution_count": 11,
   "metadata": {},
   "outputs": [
    {
     "name": "stdout",
     "output_type": "stream",
     "text": [
      "307 µs ± 5.89 µs per loop (mean ± std. dev. of 7 runs, 1,000 loops each)\n"
     ]
    }
   ],
   "source": [
    "%%timeit\n",
    "#while my proposed solution works its extremely slow so time to optimize\n",
    "cards = [1 for x in (lines)]\n",
    "for i, line in enumerate(lines):\n",
    "\n",
    "    winning_numbers, player_numbers = line.split(\":\")[1].split(\"|\")\n",
    "    matches = len(set(winning_numbers) & set(player_numbers))\n",
    "\n",
    "    for j in range(matches):\n",
    "        cards[i] += j\n"
   ]
  }
 ],
 "metadata": {
  "kernelspec": {
   "display_name": "env",
   "language": "python",
   "name": "python3"
  },
  "language_info": {
   "codemirror_mode": {
    "name": "ipython",
    "version": 3
   },
   "file_extension": ".py",
   "mimetype": "text/x-python",
   "name": "python",
   "nbconvert_exporter": "python",
   "pygments_lexer": "ipython3",
   "version": "3.11.6"
  }
 },
 "nbformat": 4,
 "nbformat_minor": 2
}
