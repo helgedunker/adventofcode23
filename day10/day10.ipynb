{
 "cells": [
  {
   "cell_type": "code",
   "execution_count": 5,
   "metadata": {},
   "outputs": [],
   "source": [
    "with open(\"day10.txt\", \"r\") as f:\n",
    "    data = f.read().splitlines()\n"
   ]
  },
  {
   "cell_type": "code",
   "execution_count": 6,
   "metadata": {},
   "outputs": [],
   "source": [
    "directions = {\n",
    "    \"D\":{\"J\":\"L\", \"|\":\"D\", \"L\":\"R\"},\n",
    "    \"U\":{\"7\":\"L\", \"|\":\"U\", \"F\":\"R\"},\n",
    "    \"R\":{\"J\":\"U\", \"-\":\"R\", \"7\":\"D\"},\n",
    "    \"L\":{\"L\":\"U\", \"-\":\"L\", \"F\":\"D\"}\n",
    "}\n",
    "direction_increment = {\"D\":(1,0), \"U\":(-1,0), \"R\":(0,1), \"L\":(0,-1)}\n",
    "\n",
    "maze = [\"0\" * (len(data[0]) + 2)]\n",
    "for i, line in enumerate(data[:-1]):\n",
    "    maze.append(\"0\" + line + \"0\")\n",
    "    if \"S\" in line:\n",
    "        start = (i+1, line.index(\"S\")+1)\n",
    "maze.append(\"0\" * (len(data[0]) + 2))"
   ]
  },
  {
   "cell_type": "code",
   "execution_count": 16,
   "metadata": {},
   "outputs": [
    {
     "name": "stdout",
     "output_type": "stream",
     "text": [
      "6870\n",
      "287\n"
     ]
    }
   ],
   "source": [
    "#follow the maze\n",
    "pos = start\n",
    "count = 1\n",
    "curdir = \"\"\n",
    "max_y, max_x = len(maze), len(maze[0]) \n",
    "\n",
    "for direction in directions:\n",
    "    # get current direction\n",
    "    y, x = pos\n",
    "    dy, dx = direction_increment[direction]\n",
    "    if maze[y+dy][x+dx] in directions[direction]:\n",
    "        curdir = direction\n",
    "\n",
    "loop_positions = []\n",
    "while pos != start or count == 1:\n",
    "    # walk the maze\n",
    "    y, x = pos\n",
    "    loop_positions.append(pos) # cache postions for part 2\n",
    "    dy, dx = direction_increment[curdir]\n",
    "    if maze[y+dy][x+dx] == \"S\" and count > 1:\n",
    "        break\n",
    "    pos = (y+dy, x+dx)\n",
    "    if maze[y+dy][x+dx] == \"0\":\n",
    "        break\n",
    "    curdir = directions[curdir][maze[y+dy][x+dx]]\n",
    "    count += 1\n",
    "\n",
    "print(count//2)\n",
    "\n",
    "#find area enclosed by the loop\n",
    "area = 0\n",
    "for y in range(len(maze)):\n",
    "    up = False\n",
    "    for x in range(len(maze[i])):\n",
    "        if maze[y][x] in [\"|\", \"7\", \"F\", \"S\"] and (y,x) in loop_positions:\n",
    "            # catch the steps that go down\n",
    "            up = not up\n",
    "        if up and (y,x) not in loop_positions:\n",
    "            area += 1\n",
    "\n",
    "\n",
    "    \n",
    "print(area)"
   ]
  }
 ],
 "metadata": {
  "kernelspec": {
   "display_name": "env",
   "language": "python",
   "name": "python3"
  },
  "language_info": {
   "codemirror_mode": {
    "name": "ipython",
    "version": 3
   },
   "file_extension": ".py",
   "mimetype": "text/x-python",
   "name": "python",
   "nbconvert_exporter": "python",
   "pygments_lexer": "ipython3",
   "version": "3.10.12"
  }
 },
 "nbformat": 4,
 "nbformat_minor": 2
}
